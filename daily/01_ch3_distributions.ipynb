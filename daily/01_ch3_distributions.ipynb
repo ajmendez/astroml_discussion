{
 "cells": [
  {
   "cell_type": "code",
   "execution_count": 1,
   "metadata": {
    "collapsed": true
   },
   "outputs": [],
   "source": [
    "%matplotlib inline"
   ]
  },
  {
   "cell_type": "code",
   "execution_count": 4,
   "metadata": {
    "collapsed": false
   },
   "outputs": [],
   "source": [
    "import pylab\n",
    "import numpy as np\n",
    "import astroML\n",
    "from astroML import stats\n",
    "import astroML.density_estimation\n",
    "import scipy.stats\n",
    "import scipy.special\n",
    "import scipy.interpolate\n",
    "import matplotlib.patches"
   ]
  },
  {
   "cell_type": "markdown",
   "metadata": {},
   "source": [
    "### Uniform"
   ]
  },
  {
   "cell_type": "code",
   "execution_count": 5,
   "metadata": {
    "collapsed": false
   },
   "outputs": [
    {
     "name": "stdout",
     "output_type": "stream",
     "text": [
      "0.511942519611\n"
     ]
    }
   ],
   "source": [
    "x = np.random.random(1000)\n",
    "q25, q50, q75 = np.percentile(x, [25, 50, 75])\n",
    "print(q50)"
   ]
  },
  {
   "cell_type": "code",
   "execution_count": 6,
   "metadata": {
    "collapsed": false
   },
   "outputs": [
    {
     "name": "stdout",
     "output_type": "stream",
     "text": [
      "[ 1.25424678  1.75007529  1.52795338  0.07255817  0.01432285  0.84686213\n",
      "  1.68211983  0.17726036  0.99015736  1.47319231] 0.5\n"
     ]
    }
   ],
   "source": [
    "dist = scipy.stats.uniform(0, 2) # left edge = 0,\n",
    "# width = 2\n",
    "r = dist.rvs(10) # ten random draws\n",
    "p = dist.pdf(1) # pdf evaluated at x=1\n",
    "print(r, p)"
   ]
  },
  {
   "cell_type": "markdown",
   "metadata": {},
   "source": [
    "### Normal"
   ]
  },
  {
   "cell_type": "code",
   "execution_count": 7,
   "metadata": {
    "collapsed": false
   },
   "outputs": [
    {
     "data": {
      "text/plain": [
       "0.96767271916940412"
      ]
     },
     "execution_count": 7,
     "metadata": {},
     "output_type": "execute_result"
    }
   ],
   "source": [
    "np.random.seed(0)\n",
    "x = np.random.normal(size=1000) # 1000 normally\n",
    "# distributed points\n",
    "stats.sigmaG(x)"
   ]
  },
  {
   "cell_type": "code",
   "execution_count": 8,
   "metadata": {
    "collapsed": false
   },
   "outputs": [
    {
     "name": "stdout",
     "output_type": "stream",
     "text": [
      "0.398942280401\n"
     ]
    }
   ],
   "source": [
    "from scipy import stats\n",
    "dist = stats.norm(0, 1) # mean = 0, stdev = 1 r = dist.rvs(10) # ten random draws\n",
    "p = dist.pdf(0) # pdf evaluated at x=0\n",
    "print(p)"
   ]
  },
  {
   "cell_type": "code",
   "execution_count": 9,
   "metadata": {
    "collapsed": false
   },
   "outputs": [
    {
     "data": {
      "text/plain": [
       "0.84270079294971478"
      ]
     },
     "execution_count": 9,
     "metadata": {},
     "output_type": "execute_result"
    }
   ],
   "source": [
    "scipy.special.erf(1)"
   ]
  },
  {
   "cell_type": "markdown",
   "metadata": {},
   "source": [
    "### Binominal"
   ]
  },
  {
   "cell_type": "code",
   "execution_count": 10,
   "metadata": {
    "collapsed": false
   },
   "outputs": [
    {
     "name": "stdout",
     "output_type": "stream",
     "text": [
      "0.0038592819309\n"
     ]
    }
   ],
   "source": [
    "dist = scipy.stats.binom(20, 0.7) # N = 20, b = 0.7 r = dist.rvs(10) # ten random draws\n",
    "p = dist.pmf(8) # prob. evaluated at k=8\n",
    "print(p)"
   ]
  },
  {
   "cell_type": "code",
   "execution_count": 11,
   "metadata": {
    "collapsed": false
   },
   "outputs": [
    {
     "name": "stdout",
     "output_type": "stream",
     "text": [
      "[3 3 4]\n"
     ]
    }
   ],
   "source": [
    "vals = np.random.multinomial(n=10, \n",
    "                             pvals=[0.2, 0.3, 0.5]) # pvals sum to 1\n",
    "print(vals)"
   ]
  },
  {
   "cell_type": "markdown",
   "metadata": {},
   "source": [
    "### Poisson"
   ]
  },
  {
   "cell_type": "code",
   "execution_count": 12,
   "metadata": {
    "collapsed": false
   },
   "outputs": [
    {
     "name": "stdout",
     "output_type": "stream",
     "text": [
      "0.140373895814\n"
     ]
    }
   ],
   "source": [
    "dist = scipy.stats.poisson(5) # mu = 5\n",
    "r = dist.rvs(10) # ten random draws\n",
    "p = dist.pmf(3) # prob. evaluated at k=3\n",
    "print(p)"
   ]
  },
  {
   "cell_type": "markdown",
   "metadata": {},
   "source": [
    "### Lorentzian"
   ]
  },
  {
   "cell_type": "code",
   "execution_count": 39,
   "metadata": {
    "collapsed": false
   },
   "outputs": [
    {
     "name": "stdout",
     "output_type": "stream",
     "text": [
      "0.0318309886184\n"
     ]
    }
   ],
   "source": [
    "dist = scipy.stats.cauchy(0, 1) # mu = 0, gamma = 1 r = dist.rvs(10) # ten random draws\n",
    "p = dist.pdf(3) # pdf evaluated at x=3\n",
    "print(p)"
   ]
  },
  {
   "cell_type": "markdown",
   "metadata": {},
   "source": [
    "### Laplace"
   ]
  },
  {
   "cell_type": "code",
   "execution_count": 41,
   "metadata": {
    "collapsed": false
   },
   "outputs": [
    {
     "name": "stdout",
     "output_type": "stream",
     "text": [
      "0.00247875217667\n"
     ]
    }
   ],
   "source": [
    "dist = scipy.stats.laplace(0, 0.5) # mu = 0, delta = 0.5 r = dist.rvs(10) # ten random draws\n",
    "p = dist.pdf(3) # pdf evaluated at x=3\n",
    "print(p)"
   ]
  },
  {
   "cell_type": "markdown",
   "metadata": {},
   "source": [
    "# $\\chi^2$ Distribution"
   ]
  },
  {
   "cell_type": "code",
   "execution_count": 49,
   "metadata": {
    "collapsed": false
   },
   "outputs": [
    {
     "name": "stdout",
     "output_type": "stream",
     "text": [
      "0.080656908173 [ 3.492439    5.95034351]\n"
     ]
    },
    {
     "data": {
      "image/png": "[encoded data removed]",
      "text/plain": [
       "<matplotlib.figure.Figure at 0x113642a58>"
      ]
     },
     "metadata": {},
     "output_type": "display_data"
    }
   ],
   "source": [
    "dist = scipy.stats.chi2(5) # k = 5\n",
    "r = dist.rvs(10000) # ten random draws\n",
    "p = dist.pdf(1) # pdf evaluated at x=1\n",
    "print(p, r[:2])\n",
    "_ = pylab.hist(r, 100, lw=0, alpha=0.7)"
   ]
  },
  {
   "cell_type": "code",
   "execution_count": 52,
   "metadata": {
    "collapsed": false
   },
   "outputs": [
    {
     "data": {
      "text/plain": [
       "24.0"
      ]
     },
     "execution_count": 52,
     "metadata": {},
     "output_type": "execute_result"
    }
   ],
   "source": [
    "scipy.special.gamma(5)"
   ]
  },
  {
   "cell_type": "markdown",
   "metadata": {},
   "source": [
    "### Student's t"
   ]
  },
  {
   "cell_type": "code",
   "execution_count": 54,
   "metadata": {
    "collapsed": false,
    "scrolled": true
   },
   "outputs": [
    {
     "data": {
      "image/png": "[encoded data removed]",
      "text/plain": [
       "<matplotlib.figure.Figure at 0x10f4b9048>"
      ]
     },
     "metadata": {},
     "output_type": "display_data"
    }
   ],
   "source": [
    "dist = scipy.stats.t(5) # k = 5\n",
    "r = dist.rvs(10000) # ten random draws\n",
    "p = dist.pdf(4)\n",
    "_ = pylab.hist(r, 100, lw=0, alpha=0.7)"
   ]
  },
  {
   "cell_type": "markdown",
   "metadata": {},
   "source": [
    "### Fischer's F"
   ]
  },
  {
   "cell_type": "code",
   "execution_count": 55,
   "metadata": {
    "collapsed": false
   },
   "outputs": [
    {
     "name": "stdout",
     "output_type": "stream",
     "text": [
      "0.278854800927\n"
     ]
    }
   ],
   "source": [
    "dist = scipy.stats.f(2,3) #d1=2,d2=3 r = dist.rvs(10) # ten random draws\n",
    "p = dist.pdf(1) # pdf evaluated at x=1\n",
    "print(p)"
   ]
  },
  {
   "cell_type": "markdown",
   "metadata": {},
   "source": [
    "### Beta, Gamma"
   ]
  },
  {
   "cell_type": "code",
   "execution_count": 57,
   "metadata": {
    "collapsed": false
   },
   "outputs": [
    {
     "name": "stdout",
     "output_type": "stream",
     "text": [
      "0.519797867489\n"
     ]
    }
   ],
   "source": [
    "dist = scipy.stats.beta(0.5, 1.5) # alpha = 0.5,\n",
    "# beta = 1.5\n",
    "r = dist.rvs(10) # ten random draws\n",
    "p = dist.pdf(0.6) # pdf evaluated at x=0.6\n",
    "print(p)"
   ]
  },
  {
   "cell_type": "code",
   "execution_count": 59,
   "metadata": {
    "collapsed": false
   },
   "outputs": [
    {
     "name": "stdout",
     "output_type": "stream",
     "text": [
      "0.303265329856\n"
     ]
    }
   ],
   "source": [
    "dist = scipy.stats.gamma(1, 0, 2) # k = 1, loc = 0,\n",
    "# theta = 2\n",
    "r = dist.rvs(10) # ten random draws\n",
    "p = dist.pdf(1) # pdf evaluated at x=1\n",
    "print(p)"
   ]
  },
  {
   "cell_type": "code",
   "execution_count": 60,
   "metadata": {
    "collapsed": true
   },
   "outputs": [],
   "source": [
    "dist = scipy.stats.dweibull(1, 0, 2) # k = 1, loc = 0,\n",
    "# lambda = 2\n",
    "r = dist.rvs(10) # ten random draws\n",
    "p = dist.pdf(1) # pdf evaluated at x=1\n"
   ]
  },
  {
   "cell_type": "markdown",
   "metadata": {},
   "source": [
    "### Multivariate"
   ]
  },
  {
   "cell_type": "code",
   "execution_count": 15,
   "metadata": {
    "collapsed": false
   },
   "outputs": [
    {
     "data": {
      "text/plain": [
       "<matplotlib.collections.QuadMesh at 0x11f6d6710>"
      ]
     },
     "execution_count": 15,
     "metadata": {},
     "output_type": "execute_result"
    },
    {
     "name": "stderr",
     "output_type": "stream",
     "text": [
      "/Applications/Pineapple.app/Contents/Frameworks/Python.framework/Versions/3.5/lib/python3.5/site-packages/matplotlib/collections.py:590: FutureWarning: elementwise comparison failed; returning scalar instead, but in the future will perform elementwise comparison\n",
      "  if self._edgecolors == str('face'):\n"
     ]
    },
    {
     "data": {
      "image/png": "[encoded data removed]",
      "text/plain": [
       "<matplotlib.figure.Figure at 0x1155922b0>"
      ]
     },
     "metadata": {},
     "output_type": "display_data"
    }
   ],
   "source": [
    "# simple independent gaussians\n",
    "np.random.seed(0)\n",
    "# x,y = np.random.randn(2,10000)\n",
    "mu = [1,2]\n",
    "cov = [[1,0.9],\n",
    "       [0.9,1]]\n",
    "x,y = np.random.multivariate_normal(mu, cov, 100000).T\n",
    "pylab.figure(figsize=(12,6))\n",
    "pylab.subplot(1,2,1)\n",
    "pylab.scatter(x,y, lw=0)\n",
    "pylab.subplot(1,2,2)\n",
    "H,xe,ye = np.histogram2d(x,y, bins=(101,101))\n",
    "pylab.pcolormesh(xe,ye,H)"
   ]
  },
  {
   "cell_type": "code",
   "execution_count": 88,
   "metadata": {
    "collapsed": false
   },
   "outputs": [
    {
     "name": "stdout",
     "output_type": "stream",
     "text": [
      "[0.95620082605106349, 1.9918026519970979] 1.94388420421 0.979717667221 -1.19345230558\n"
     ]
    },
    {
     "data": {
      "text/plain": [
       "<matplotlib.patches.Ellipse at 0x112fef5c0>"
      ]
     },
     "execution_count": 88,
     "metadata": {},
     "output_type": "execute_result"
    },
    {
     "name": "stderr",
     "output_type": "stream",
     "text": [
      "/Applications/Pineapple.app/Contents/Frameworks/Python.framework/Versions/3.5/lib/python3.5/site-packages/matplotlib/collections.py:590: FutureWarning: elementwise comparison failed; returning scalar instead, but in the future will perform elementwise comparison\n",
      "  if self._edgecolors == str('face'):\n"
     ]
    },
    {
     "data": {
      "image/png": "[encoded data removed]",
      "text/plain": [
       "<matplotlib.figure.Figure at 0x113080f28>"
      ]
     },
     "metadata": {},
     "output_type": "display_data"
    }
   ],
   "source": [
    "# Exerpt from http://www.astroml.org/book_figures/chapter3/fig_robust_pca.html\n",
    "np.random.seed(0)\n",
    "X = stats.bivariate_normal(mu=[1,2], sigma_1=2, sigma_2=1, alpha=2, size=1000)\n",
    "x, y = X.T\n",
    "\n",
    "mean, sigma1, sigma2, alpha = stats.fit_bivariate_normal(x, y, robust=True)\n",
    "print(mean, sigma1, sigma2, alpha)\n",
    "ax = pylab.gca()\n",
    "pylab.scatter(x,y, lw=0, alpha=0.2, marker=',')\n",
    "E = matplotlib.patches.Ellipse(mean, sigma1, sigma2, np.rad2deg(alpha), \n",
    "                               ec='k', fc='none')\n",
    "ax.add_patch(E)"
   ]
  },
  {
   "cell_type": "markdown",
   "metadata": {},
   "source": [
    "### Correlation Coefficients"
   ]
  },
  {
   "cell_type": "code",
   "execution_count": 93,
   "metadata": {
    "collapsed": false
   },
   "outputs": [
    {
     "name": "stdout",
     "output_type": "stream",
     "text": [
      "-0.159735973597 -0.111111111111\n"
     ]
    }
   ],
   "source": [
    "x, y = np.random.random((2, 100)) # two random\n",
    "# arrays\n",
    "corr_coeff , p_value = scipy.stats.pearsonr(x, y)\n",
    "rho, p_value = scipy.stats.spearmanr(x, y)\n",
    "tau, p_value = scipy.stats.kendalltau(x, y)\n",
    "print(rho, tau)"
   ]
  },
  {
   "cell_type": "markdown",
   "metadata": {},
   "source": [
    "### Recreate distribution"
   ]
  },
  {
   "cell_type": "code",
   "execution_count": 96,
   "metadata": {
    "collapsed": false
   },
   "outputs": [
    {
     "data": {
      "image/png": "[encoded data removed]",
      "text/plain": [
       "<matplotlib.figure.Figure at 0x113e94198>"
      ]
     },
     "metadata": {},
     "output_type": "display_data"
    }
   ],
   "source": [
    "Ndata = 1000\n",
    "dists = (scipy.stats.norm(-1.3, 0.5), \n",
    "        scipy.stats.norm(1.3, 0.5))\n",
    "fracs = (0.6, 0.4)\n",
    "x = np.hstack((d.rvs(f * Ndata) for d, f in zip(dists, fracs)))\n",
    "_ = pylab.hist(x, 10)"
   ]
  },
  {
   "cell_type": "code",
   "execution_count": 104,
   "metadata": {
    "collapsed": false
   },
   "outputs": [
    {
     "name": "stdout",
     "output_type": "stream",
     "text": [
      "KS test: D = 0.0059; p = 1\n"
     ]
    },
    {
     "data": {
      "image/png": "[encoded data removed]",
      "text/plain": [
       "<matplotlib.figure.Figure at 0x1148dc080>"
      ]
     },
     "metadata": {},
     "output_type": "display_data"
    }
   ],
   "source": [
    "Nclone = 10000\n",
    "x_cloned = astroML.density_estimation.EmpiricalDistribution(x).rvs(Nclone)\n",
    "\n",
    "# compute the KS test to check if they're the same\n",
    "D, p = scipy.stats.ks_2samp(x, x_cloned)\n",
    "print(\"KS test: D = %.2g; p = %.2g\" % (D, p))\n",
    "_ = pylab.hist(x_cloned, 20)"
   ]
  },
  {
   "cell_type": "code",
   "execution_count": 122,
   "metadata": {
    "collapsed": false
   },
   "outputs": [
    {
     "data": {
      "image/png": "[encoded data removed]",
      "text/plain": [
       "<matplotlib.figure.Figure at 0x1150e6f60>"
      ]
     },
     "metadata": {},
     "output_type": "display_data"
    }
   ],
   "source": [
    "sx = sorted(x)\n",
    "Px_cuml = np.linspace(0, 1, Ndata)\n",
    "\n",
    "# set up an interpolation of the inverse cumulative distribution\n",
    "tck = scipy.interpolate.splrep(Px_cuml, sx)\n",
    "\n",
    "# sample evenly along the cumulative distribution, and interpolate\n",
    "Px_cuml_sample = np.linspace(0, 1, 10 * Ndata)\n",
    "x_sample = scipy.interpolate.splev(Px_cuml_sample, tck)\n",
    "\n",
    "pylab.figure(figsize=(12,6))\n",
    "pylab.subplot(1,2,1)\n",
    "pylab.plot(sx, Px_cuml, '.')\n",
    "pylab.plot(x_sample, Px_cuml_sample+0.1) # add offset for display\n",
    "pylab.subplot(1,2,2)\n",
    "_ = pylab.hist(x_sample, 30)"
   ]
  },
  {
   "cell_type": "code",
   "execution_count": null,
   "metadata": {
    "collapsed": true
   },
   "outputs": [],
   "source": []
  }
 ],
 "metadata": {
  "kernelspec": {
   "display_name": "Python 3",
   "language": "python",
   "name": "python3"
  },
  "language_info": {
   "codemirror_mode": {
    "name": "ipython",
    "version": 3
   },
   "file_extension": ".py",
   "mimetype": "text/x-python",
   "name": "python",
   "nbconvert_exporter": "python",
   "pygments_lexer": "ipython3",
   "version": "3.5.0"
  }
 },
 "nbformat": 4,
 "nbformat_minor": 0
}
